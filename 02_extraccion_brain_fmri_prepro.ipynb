{
 "cells": [
  {
   "cell_type": "markdown",
   "id": "9170afc0",
   "metadata": {},
   "source": [
    "![](imagenes/UC_FMRI.jpg)"
   ]
  },
  {
   "cell_type": "markdown",
   "id": "89e6cb88",
   "metadata": {},
   "source": [
    "---\n",
    "---\n",
    "\n",
    "***Andres Eduardo Aracena Rangel***\n",
    "\n",
    "*Estudiante del programa del Magister en Física Médica*\n",
    "\n",
    "---\n",
    "\n",
    "---\n",
    "\n",
    "El siguiente Script de Python forma parte del trabajo especial de grado.\n",
    "\n",
    "Profesora Guía:\n",
    "\n",
    "*PhD María Daniela Cornejo*\n",
    "\n",
    "---\n",
    "\n",
    "---\n",
    "\n",
    "Imagenes de fMRI extraidas de OpenNuero:\n",
    "\n",
    " \n",
    "- [ds002422](https://openneuro.org/datasets/ds002422/versions/1.1.0)\n",
    " \n",
    "---"
   ]
  },
  {
   "cell_type": "markdown",
   "id": "ea605697",
   "metadata": {},
   "source": [
    "# Extracción de craneo en imagenes funcional preprocesada"
   ]
  },
  {
   "cell_type": "markdown",
   "id": "0da9a540",
   "metadata": {},
   "source": [
    "## Importamos librerias"
   ]
  },
  {
   "cell_type": "code",
   "execution_count": 1,
   "id": "52029759",
   "metadata": {},
   "outputs": [],
   "source": [
    "import time # medir el tiempo de ejecución de nuestros programas\n",
    "start = time.process_time()\n",
    "inicio = time.time()"
   ]
  },
  {
   "cell_type": "code",
   "execution_count": 2,
   "id": "f08f95fd",
   "metadata": {},
   "outputs": [
    {
     "name": "stderr",
     "output_type": "stream",
     "text": [
      "/home/aracena/.local/lib/python3.9/site-packages/nilearn/datasets/__init__.py:93: FutureWarning: Fetchers from the nilearn.datasets module will be updated in version 0.9 to return python strings instead of bytes and Pandas dataframes instead of Numpy arrays.\n",
      "  warn(\"Fetchers from the nilearn.datasets module will be \"\n"
     ]
    },
    {
     "name": "stdout",
     "output_type": "stream",
     "text": [
      "220720-01:33:00,27 nipype.utils WARNING:\n",
      "\t A newer version (1.8.3) of nipy/nipype is available. You are using 1.7.0\n"
     ]
    }
   ],
   "source": [
    "import os # El módulo os nos permite acceder a funcionalidades dependientes del Sistema Operativo\n",
    "from os.path import join as opj # Este método concatena varios componentes de ruta con exactamente un separador de directorio(‘/’)\n",
    "\n",
    "import matplotlib.pyplot as plt\n",
    "\n",
    "import numpy as np\n",
    "import nibabel as nib\n",
    "from nilearn.plotting import plot_anat\n",
    "\n",
    "import pandas as pd\n",
    "\n",
    "from nipype import Node, Workflow, SelectFiles, IdentityInterface\n",
    "from nipype.interfaces.io import DataSink\n",
    "from nipype.interfaces.fsl import BET"
   ]
  },
  {
   "cell_type": "markdown",
   "id": "3fa35a7d",
   "metadata": {},
   "source": [
    "## Definimos parametros"
   ]
  },
  {
   "cell_type": "code",
   "execution_count": 3,
   "id": "28cbd171",
   "metadata": {
    "run_control": {
     "marked": false
    }
   },
   "outputs": [],
   "source": [
    "'''\n",
    "Ruta del directorio de la data\n",
    "'''\n",
    "path_data = '/home/aracena/thesis_ds002422/' \n",
    "\n",
    "'''\n",
    "Ruta donde reposa la imagen funcional procesada\n",
    "'''\n",
    "path_fmri = opj(path_data,'01_fase1_extraccion_mask_brain','output','datasink','fmri_detrend',\n",
    "                'mask_ext_csf', 'threshold_0.95')\n",
    "\n",
    "'''\n",
    "Ruta donde reposan las imagenes de referencia de los cortes anatomicos\n",
    "'''\n",
    "path_ref = opj(path_data,'02_fase1_extraccion_brain_fmri_prepro', 'imagenes')\n",
    "\n",
    "'''\n",
    "Ruta donde se guardaran los resultados\n",
    "'''\n",
    "path_output = opj(path_data,'02_fase1_extraccion_brain_fmri_prepro', 'output')\n",
    "path_png = opj(path_output,'archivos_png')\n",
    "               \n",
    "# Crear la carpeta de salida\n",
    "os.system('mkdir -p %s'%path_output)\n",
    "os.system('mkdir -p %s'%path_png);"
   ]
  },
  {
   "cell_type": "markdown",
   "id": "e3cbd949",
   "metadata": {},
   "source": [
    "## Definimos funciones"
   ]
  },
  {
   "cell_type": "markdown",
   "id": "324f2905",
   "metadata": {},
   "source": [
    "### Función atributos"
   ]
  },
  {
   "cell_type": "code",
   "execution_count": 4,
   "id": "daed3d15",
   "metadata": {},
   "outputs": [],
   "source": [
    "'''\n",
    "Función para extraer los atributos de la(s) imagen(es).\n",
    "\n",
    "Inputs:\n",
    "\n",
    "- img: Diccinario con las imagenes nifti\n",
    "\n",
    "Output:\n",
    "\n",
    "df_atri: Dataframe con los principales atributos de las imagenes contenidas en el diccionario 'img'\n",
    "'''\n",
    "\n",
    "def atributo_img(img):\n",
    "    import pandas as pd\n",
    "    lista_img = list(img.keys()) # Creamos una lista con las claves del diccionario\n",
    "\n",
    "    df_atri = pd.DataFrame()\n",
    "    df_atri.index = ['forma', 'dimension', 'orientacion', '', 'x_img', 'y_img' , 'z_img', 'volumenes_(N)', 'voxel_size_(mm)', \n",
    "                       'TR_(s)', 'tipo_dato', 'numero_voxels','min_img', 'max_img']\n",
    "    \n",
    "    for i, ima in enumerate(lista_img):\n",
    "        lista_atri = []\n",
    "        #cargamos el header de la imagen\n",
    "        header_img = img[ima].header\n",
    "        \n",
    "        # Forma y dimensión de la imágen\n",
    "        forma = header_img.get_data_shape() \n",
    "        lista_atri.append(str(forma))\n",
    "        lista_atri.append(len(forma))\n",
    "        \n",
    "        # Orientacion de la imágen\n",
    "        orientacion = nib.orientations.aff2axcodes(img[ima].affine)\n",
    "        lista_atri.append(orientacion)\n",
    "\n",
    "        # x, y, z y volumenes\n",
    "        ejes=[]\n",
    "        for i in range(len(orientacion)):\n",
    "            tam = img[ima].shape[i]\n",
    "            ori = str(orientacion[i])\n",
    "            if  ori == 'L'or ori == 'R':\n",
    "                x_img = tam\n",
    "                a = 'x'\n",
    "\n",
    "            elif ori == 'A' or ori == 'P':\n",
    "                y_img = tam\n",
    "                a = 'y'\n",
    "\n",
    "            elif ori == 'I'or ori == 'S':\n",
    "                z_img = tam\n",
    "                a = 'z'\n",
    "                \n",
    "            ejes.append(a)\n",
    "        \n",
    "        # Agregamos a la lista de atributos forma, x, y, z\n",
    "        lista_atri.append(ejes)\n",
    "        lista_atri.append(x_img)\n",
    "        lista_atri.append(y_img)\n",
    "        lista_atri.append(z_img)\n",
    "        \n",
    "        # Agregamos volumes a la lista de atributos \n",
    "        if len(forma) == 4:\n",
    "            lista_atri.append(forma[-1])\n",
    "        else:\n",
    "            lista_atri.append('1')\n",
    "\n",
    "        # Tamaño del voxel\n",
    "        tavo = header_img.get_zooms()[0:3]\n",
    "        \n",
    "        tamvox=[]\n",
    "        for i in range(len(tavo)):\n",
    "            tamvox.append(round(tavo[i],3))\n",
    "            \n",
    "        lista_atri.append(tamvox) \n",
    "        \n",
    "        # Tiempo de exploración\n",
    "        if len(header_img.get_zooms()) == 4:\n",
    "            lista_atri.append(header_img.get_zooms()[-1])\n",
    "        else:\n",
    "            lista_atri.append('---')     \n",
    "        \n",
    "        \n",
    "        #lista_atri.append(header_img.get_zooms()[-1])   # Tiempo de exploración\n",
    "        lista_atri.append(header_img.get_data_dtype())   # Tipo de datos numérico\n",
    "        lista_atri.append(img[ima].get_fdata().size) # Número de elementos de la matriz\n",
    "        lista_atri.append(round(img[ima].get_fdata().min(),2)) # Valor minimo de la imágen\n",
    "        lista_atri.append(round(img[ima].get_fdata().max(),2)) # Valor maximo de la imágen\n",
    "        \n",
    "        # Creamos DF de atributos de la imagen\n",
    "        df_at = pd.DataFrame()\n",
    "        df_at = pd.DataFrame(lista_atri)\n",
    "        df_at.columns = [ima]\n",
    "        df_at.index = df_atri.index\n",
    "        #display(df_at)\n",
    "\n",
    "        # Unimos las DF\n",
    "        df_atri = pd.merge(df_atri, df_at,\n",
    "                           right_index=True,left_index=True)\n",
    "    return df_atri"
   ]
  },
  {
   "cell_type": "markdown",
   "id": "e2e8a47c",
   "metadata": {},
   "source": [
    "### Funcion para visualizar los cortes anatomicos sobre un voxel"
   ]
  },
  {
   "cell_type": "code",
   "execution_count": 5,
   "id": "d69e8a7a",
   "metadata": {},
   "outputs": [],
   "source": [
    "'''\n",
    "Función para generar la visualización de los cortes anatómico de varias imágenes (hasta cuatro) \n",
    "\n",
    "Inputs:\n",
    "\n",
    "- img: Diccionario con las imágenes nifti\n",
    "- vol: Volumen donde se desea visualizar los cortes anatómicos\n",
    "- vox: Posición i,j,k del voxel sobre el cual se proyectarán los cortes\n",
    "#- nom_img = nombre de la imagen con que se desea visualizar y guardar\n",
    "\n",
    "Outputs:\n",
    "- plot de los diferentes cortes anatómicos sobre un voxel de las imágenes ingresadas en 'img'\n",
    "'''\n",
    "\n",
    "def visual_cortes_ana(img, vol, voxel):\n",
    "    import nibabel as nib\n",
    "    import numpy as np\n",
    "    import matplotlib.pyplot as plt\n",
    "    import matplotlib.image as mpimg\n",
    "   \n",
    "    # Creamos una lista con las claves del diccionario ingresado\n",
    "    lista_img = list(img.keys())\n",
    "    \n",
    "    corte_sag = {}\n",
    "    corte_cor = {}\n",
    "    corte_axi = {}\n",
    "    datos_img = {}\n",
    "    x_cor = {}\n",
    "    y_cor = {}\n",
    "    z_cor = {}\n",
    "    nomb_ori={}\n",
    "    for i, ima in enumerate(lista_img):\n",
    "        # Orientacion de la imágen\n",
    "        orientacion = nib.orientations.aff2axcodes(img[ima].affine)\n",
    "        # creamos un nombre para la grafica\n",
    "        a = ','.join(orientacion)\n",
    "        nomb_ori[ima] = '('+ a +')'\n",
    "        \n",
    "        #cargamos datos de la imagen\n",
    "        datos_img[ima] = img[ima].get_fdata()\n",
    "        ta = len(datos_img[ima].shape)\n",
    "        if ta == 4:\n",
    "            datos_img[ima] = datos_img[ima][...,vol]\n",
    "        else:\n",
    "            datos_img[ima] = datos_img[ima][...]\n",
    "\n",
    "        #se extraen valores x, y, z del voxel ingresado y cortes segun posición anatómica\n",
    "        for j in range(len(orientacion)):\n",
    "            ori = str(orientacion[j])\n",
    "\n",
    "            if  ori == 'L'or ori == 'R':\n",
    "                x_cor[ima] = voxel[j]\n",
    "                \n",
    "                # corte segun posición anatómica\n",
    "                if j == 0:\n",
    "                    corte_sag[ima] = datos_img[ima][x_cor[ima],:,:]\n",
    "                elif j == 1:\n",
    "                    corte_sag[ima] = datos_img[ima][:,x_cor[ima],:]\n",
    "                elif j == 2:\n",
    "                    corte_sag[ima] = datos_img[ima][:,:,x_cor[ima]]\n",
    "\n",
    "            elif ori == 'A' or ori == 'P':\n",
    "                y_cor[ima] = voxel[j]\n",
    "                \n",
    "                # corte segun posición anatómica\n",
    "                if j == 0:\n",
    "                    corte_cor[ima] = datos_img[ima][y_cor[ima],:,:]\n",
    "                elif j == 1:\n",
    "                    corte_cor[ima] = datos_img[ima][:,y_cor[ima],:]\n",
    "                elif j == 2:\n",
    "                    corte_cor[ima] = datos_img[ima][:,:,y_cor[ima]]\n",
    "\n",
    "            elif ori == 'I'or ori == 'S':\n",
    "                z_cor[ima] = voxel[j]\n",
    "                \n",
    "                # corte segun posición anatómica\n",
    "                if j == 0:\n",
    "                    corte_axi[ima] = datos_img[ima][z_cor[ima],:,:]\n",
    "                elif j == 1:\n",
    "                    corte_axi[ima] = datos_img[ima][:,z_cor[ima],:]\n",
    "                elif j == 2:\n",
    "                    corte_axi[ima] = datos_img[ima][:,:,z_cor[ima]]\n",
    "    \n",
    "    # Definimos estilo de letra para la grafica\n",
    "    font1 = {'fontsize':18, 'fontweight':'bold', 'color':'tab:blue'}\n",
    "    font2  = {'fontsize':18, 'fontweight':'bold', 'color':'tab:red'}\n",
    "    \n",
    "    if (len(lista_img))==1:\n",
    "        #Graficamos\n",
    "        nom = lista_img[0] + '\\n' + nomb_ori[lista_img[0]]\n",
    "\n",
    "        fig, axes = plt.subplots(1,3, figsize=(15, 15))\n",
    "        fig.suptitle(nom, fontweight =\"bold\", fontsize = 22, color = 'tab:blue')\n",
    "        axes[0].imshow(corte_sag[ima], cmap = 'gray')\n",
    "        axes[1].imshow(corte_cor[ima], cmap = 'gray')\n",
    "        axes[2].imshow(corte_axi[ima], cmap = 'gray')\n",
    "        for i in range(3):\n",
    "            axes[i].axis('off')\n",
    "\n",
    "        # Titulos de las graficas\n",
    "        titulo =['Corte Sagital: '+ str(x_cor[ima]) + '\\n', \n",
    "                 'Corte Coronal: '+ str(y_cor[ima]) + '\\n',\n",
    "                 'Corte Axial: '+ str(z_cor[ima]) + '\\n']\n",
    "\n",
    "        for i, title in enumerate(titulo):\n",
    "            axes[i].set_title(title, fontdict=font2)\n",
    "\n",
    "        plt.subplots_adjust(#left=0.5,\n",
    "                        #bottom=0.5, \n",
    "                        #right=0.7,\n",
    "                        hspace=0.3,\n",
    "                        top=1.26)\n",
    "        fig.patch.set_facecolor('xkcd:white')\n",
    "        plt.show()\n",
    "    \n",
    "    else:\n",
    "        # Graficamos\n",
    "        fig, axes = plt.subplots(3, len(lista_img),figsize=(20, 20))\n",
    "        for i, im in enumerate(lista_img):\n",
    "            axes[0,i].imshow(corte_sag[im], cmap = 'gray')\n",
    "            axes[1,i].imshow(corte_cor[im], cmap = 'gray')\n",
    "            axes[2,i].imshow(corte_axi[im], cmap = 'gray')\n",
    "\n",
    "        \n",
    "            # Identificamos los cortes\n",
    "            titulo =['Corte Sagital: '+ str(x_cor[im]) + '\\n', \n",
    "                     'Corte Coronal: '+ str(y_cor[im]) + '\\n',\n",
    "                     'Corte Axial: '+ str(z_cor[im]) + '\\n']\n",
    "\n",
    "            for j, title in enumerate(titulo):\n",
    "                axes[j,i].xaxis.set_label_position('top')\n",
    "                axes[j,i].set_xlabel(title, fontdict=font2)\n",
    "            \n",
    "\n",
    "        # Titulos que que identifica la imagen y la orientacion\n",
    "        for i,im in enumerate(lista_img):\n",
    "            axes[0,i].set_title((im+'\\n'+nomb_ori[im]+'\\n'), \n",
    "                                fontdict=font1)\n",
    "        \n",
    "        #for j in range(3):\n",
    "            #for i in range(2):\n",
    "                #axes[j,i].axis('off')\n",
    "\n",
    "    \n",
    "        plt.subplots_adjust(#left=0.5,\n",
    "                            #bottom=0.5, \n",
    "                            #right=0.7,        \n",
    "                            #hspace=0.3,\n",
    "                            top=0.91)\n",
    "    plt.show()\n",
    "    \n",
    "    # cargamos imagen de referencia de los cortes anatomicos\n",
    "    img_cor_sag = mpimg.imread(opj(path_ref,'corte_sagital.png'))\n",
    "    img_cor_cor = mpimg.imread(opj(path_ref,'corte_coronal.png'))\n",
    "    img_cor_axi = mpimg.imread(opj(path_ref,'corte_axial.png'))\n",
    "\n",
    "    img_cor = [img_cor_sag,img_cor_cor,img_cor_axi]\n",
    "\n",
    "    fig, axes = plt.subplots(1,3, figsize=(2,2))\n",
    "    for i,imco in enumerate(img_cor):\n",
    "        axes[i].imshow(img_cor[i])\n",
    "        axes[i].axis('off')\n",
    "\n",
    "    # para cambiar el espacio entre las subtramas de Matplotlib\n",
    "    plt.subplots_adjust(left=0, \n",
    "                        bottom=0.1,  \n",
    "                        right=7,  \n",
    "                        top=0.9,  \n",
    "                        wspace=1,  \n",
    "                        hspace=0.4)\n",
    "    #fig.tight_layout()\n",
    "    fig.patch.set_facecolor('xkcd:white')\n",
    "    plt.plot()"
   ]
  },
  {
   "cell_type": "markdown",
   "id": "41f53a0c",
   "metadata": {},
   "source": [
    "### Función zoom"
   ]
  },
  {
   "cell_type": "code",
   "execution_count": 6,
   "id": "8853de63",
   "metadata": {},
   "outputs": [],
   "source": [
    "'''\n",
    "Función para generar un zoom sobre una region de la imagen con un voxel de comparación\n",
    "\n",
    "Inputs:\n",
    "\n",
    "- img = Diccinario con las imagenes nifti\n",
    "- vol = volumen donde se desea visualizar los cortes anatomicos\n",
    "- tipo = indicar que corte desea visualizar:\n",
    "            * 'sagital'\n",
    "            * 'coronal'\n",
    "            * 'axial'\n",
    "- corte = numero del corte a visualizar\n",
    "- ini_verti = valor inicial de la fila del corte seleccionado\n",
    "- ini_hori = valor inicial de la columna del corte seleccionado\n",
    "- n = numero de voxels tanto en filas y columnas que se desean para el zoom\n",
    "- pto = voxel en el corte anatomico para comparar\n",
    "\n",
    "Outputs:\n",
    "\n",
    "- plot de las imagenes ingresadas en 'img'\n",
    "- DF de comparación de valor de voxel en el voxel indicado\n",
    "'''\n",
    "\n",
    "def zoom(img, vol, tipo, corte, ini_verti, ini_hori, n):\n",
    "    import numpy as np\n",
    "    import matplotlib.pyplot as plt\n",
    "    import matplotlib.image as mpimg\n",
    "    import matplotlib.patches as patches\n",
    "    import pandas as pd\n",
    "    \n",
    "    \n",
    "    # Creamos una lista con las claves del diccionario ingresado\n",
    "    lista_img = list(img.keys())\n",
    "    \n",
    "    x_cor = {} ; y_cor = {} ; z_cor = {}\n",
    "    corte_sag = {} ; corte_cor = {} ; corte_axi = {}     \n",
    "    datos_ori={} ; datos_img = {}\n",
    "    orientacion={}\n",
    "    nomb_ori={}\n",
    "            \n",
    "    for i, ima in enumerate(lista_img):\n",
    "        # Orientacion de la imágen\n",
    "        orientacion[ima] = nib.orientations.aff2axcodes(img[ima].affine)\n",
    "        # creamos un nombre para la grafica\n",
    "        a = ','.join(orientacion[ima])\n",
    "        nomb_ori[ima] = '('+ a +')'\n",
    "        \n",
    "        #cargamos datos de la imagen\n",
    "        datos_img[ima] = img[ima].get_fdata()\n",
    "        ta = len(datos_img[ima].shape)\n",
    "        if ta == 4:\n",
    "            datos_img[ima] = datos_img[ima][...,vol]\n",
    "        else:\n",
    "            datos_img[ima] = datos_img[ima][...]\n",
    "\n",
    "        #se extraen valores x, y, z del voxel ingresado y cortes segun posición anatómica\n",
    "        for j in range(len(orientacion[ima])):\n",
    "            ori = str(orientacion[ima][j])\n",
    "\n",
    "            if  ori == 'L'or ori == 'R':                \n",
    "                # corte segun posición anatómica\n",
    "                if j == 0:\n",
    "                    corte_sag[ima] = datos_img[ima][corte,:,:]\n",
    "                elif j == 1:\n",
    "                    corte_sag[ima] = datos_img[ima][:,corte,:]\n",
    "                elif j == 2:\n",
    "                    corte_sag[ima] = datos_img[ima][:,:,corte]\n",
    "\n",
    "            elif ori == 'A' or ori == 'P':                \n",
    "                # corte segun posición anatómica\n",
    "                if j == 0:\n",
    "                    corte_cor[ima] = datos_img[ima][corte,:,:]\n",
    "                elif j == 1:\n",
    "                    corte_cor[ima] = datos_img[ima][:,corte,:]\n",
    "                elif j == 2:\n",
    "                    corte_cor[ima] = datos_img[ima][:,:,corte]\n",
    "\n",
    "            elif ori == 'I'or ori == 'S':\n",
    "                # corte segun posición anatómica\n",
    "                if j == 0:\n",
    "                    corte_axi[ima] = datos_img[ima][corte,:,:]\n",
    "                elif j == 1:\n",
    "                    corte_axi[ima] = datos_img[ima][:,corte,:]\n",
    "                elif j == 2:\n",
    "                    corte_axi[ima] = datos_img[ima][:,:,corte]\n",
    "\n",
    "\n",
    "    # Extraemos el corte segun el tipo\n",
    "    corte_anat={} ; datos_zoom = {}\n",
    "    for i, ima in enumerate(lista_img):\n",
    "        if tipo  == 'sagital':\n",
    "            corte_anat[ima] = corte_sag[ima]\n",
    "            datos_zoom[ima] = corte_sag[ima][ini_verti : ini_verti+n,\n",
    "                                        ini_hori : ini_hori+n]\n",
    "        if tipo == 'coronal':\n",
    "            corte_anat[ima] = corte_cor[ima]\n",
    "            datos_zoom[ima] = corte_cor[ima][ini_verti : ini_verti+n,\n",
    "                                        ini_hori : ini_hori+n]\n",
    "        if tipo == 'axial':\n",
    "            corte_anat[ima] = corte_axi[ima]\n",
    "            datos_zoom[ima] = corte_axi[ima][ini_verti: ini_verti+n,\n",
    "                                        ini_hori : ini_hori+n]\n",
    "            \n",
    "    # Graficamos\n",
    "    font1 = {'fontsize':16, 'fontweight':'bold', 'color':'tab:blue'}\n",
    "    font2  = {'fontsize':18, 'fontweight':'bold', 'color':'tab:red'}\n",
    "\n",
    "    fig, axes = plt.subplots(len(datos_img),len(datos_img), figsize=(15, 15))\n",
    "    nom_prin = 'Cortes ' +tipo+'es: '+ str(corte)\n",
    "    fig.suptitle(nom_prin,fontweight =\"bold\", fontsize = 22, color = 'tab:blue')\n",
    "    \n",
    "    for j,im in enumerate(lista_img):\n",
    "        axes[j,0].imshow(corte_anat[im], cmap = 'gray')\n",
    "        axes[j,1].imshow(datos_zoom[im], cmap = 'gray')\n",
    "\n",
    "        # Nombramos las imagenes        \n",
    "        axes[j,0].xaxis.set_label_position('top')\n",
    "        axes[j,0].set_xlabel(im+' '+ nomb_ori[ima] + '\\n', fontdict=font2)\n",
    "        axes[j,1].xaxis.set_label_position('top')\n",
    "        axes[j,1].set_xlabel('zoom: '+im + '\\n', fontdict=font2)\n",
    "\n",
    "        # Recuadro que identifica la zona del zoom\n",
    "        cua_1 = patches.Rectangle((ini_hori,ini_verti),n,n, linewidth=2, edgecolor = 'yellow', fill=False)\n",
    "        axes[j,0].add_patch(cua_1)\n",
    "\n",
    "        #resaltamos borde de la imagen zoom\n",
    "        axes[j,1].spines['bottom'].set_color('yellow') ; axes[j,1].spines['bottom'].set_linewidth(10)\n",
    "        axes[j,1].spines['top'].set_color('yellow') ; axes[j,1].spines['top'].set_linewidth(10)\n",
    "        axes[j,1].spines['left'].set_color('yellow') ; axes[j,1].spines['left'].set_linewidth(10)\n",
    "        axes[j,1].spines['right'].set_color('yellow') ; axes[j,1].spines['right'].set_linewidth(10)\n",
    "        \n",
    "        \n",
    "    #display(df_compara.T)\n",
    "    plt.subplots_adjust(#left=0.5,\n",
    "                        #bottom=0.5, \n",
    "                        #right=0.7,        \n",
    "                        #hspace=0.3,\n",
    "                        top=0.92)"
   ]
  },
  {
   "cell_type": "markdown",
   "id": "2de1136d",
   "metadata": {},
   "source": [
    "### Función Zoom con voxel de comparación"
   ]
  },
  {
   "cell_type": "code",
   "execution_count": 7,
   "id": "fd407393",
   "metadata": {},
   "outputs": [],
   "source": [
    "'''\n",
    "Función para generar un zoom sobre una region de la imagen con un voxel de comparación\n",
    "\n",
    "Inputs:\n",
    "\n",
    "- img = Diccinario con las imagenes nifti\n",
    "- vol = volumen donde se desea visualizar los cortes anatomicos\n",
    "- tipo = indicar que corte desea visualizar:\n",
    "            * 'sagital'\n",
    "            * 'coronal'\n",
    "            * 'axial'\n",
    "- corte = numero del corte a visualizar\n",
    "- ini_verti = valor inicial de la fila del corte seleccionado\n",
    "- ini_hori = valor inicial de la columna del corte seleccionado\n",
    "- n = numero de voxels tanto en filas y columnas que se desean para el zoom\n",
    "- pto = voxel en el corte anatomico para comparar\n",
    "\n",
    "Outputs:\n",
    "\n",
    "- plot de las imagenes ingresadas en 'img'\n",
    "- DF de comparación de valor de voxel en el voxel indicado\n",
    "'''\n",
    "\n",
    "def zoom_with_pto(img, vol, tipo, corte, ini_verti, ini_hori, n, pto):\n",
    "    import numpy as np\n",
    "    import matplotlib.pyplot as plt\n",
    "    import matplotlib.image as mpimg\n",
    "    import matplotlib.patches as patches\n",
    "    import pandas as pd\n",
    "    \n",
    "    \n",
    "    # Creamos una lista con las claves del diccionario ingresado\n",
    "    lista_img = list(img.keys())\n",
    "    \n",
    "    x_cor = {} ; y_cor = {} ; z_cor = {}\n",
    "    corte_sag = {} ; corte_cor = {} ; corte_axi = {}     \n",
    "    datos_ori={} ; datos_img = {}\n",
    "    orientacion={}\n",
    "    nomb_ori={}\n",
    "\n",
    "\n",
    "            \n",
    "    for i, ima in enumerate(lista_img):\n",
    "        # Orientacion de la imágen\n",
    "        orientacion[ima] = nib.orientations.aff2axcodes(img[ima].affine)\n",
    "        # creamos un nombre para la grafica\n",
    "        a = ','.join(orientacion[ima])\n",
    "        nomb_ori[ima] = '('+ a +')'\n",
    "        \n",
    "        #cargamos datos de la imagen\n",
    "        datos_img[ima] = img[ima].get_fdata()\n",
    "        ta = len(datos_img[ima].shape)\n",
    "        if ta == 4:\n",
    "            datos_img[ima] = datos_img[ima][...,vol]\n",
    "        else:\n",
    "            datos_img[ima] = datos_img[ima][...]\n",
    "\n",
    "        #se extraen valores x, y, z del voxel ingresado y cortes segun posición anatómica\n",
    "        for j in range(len(orientacion[ima])):\n",
    "            ori = str(orientacion[ima][j])\n",
    "\n",
    "            if  ori == 'L'or ori == 'R':                \n",
    "                # corte segun posición anatómica\n",
    "                if j == 0:\n",
    "                    corte_sag[ima] = datos_img[ima][corte,:,:]\n",
    "                elif j == 1:\n",
    "                    corte_sag[ima] = datos_img[ima][:,corte,:]\n",
    "                elif j == 2:\n",
    "                    corte_sag[ima] = datos_img[ima][:,:,corte]\n",
    "\n",
    "            elif ori == 'A' or ori == 'P':                \n",
    "                # corte segun posición anatómica\n",
    "                if j == 0:\n",
    "                    corte_cor[ima] = datos_img[ima][corte,:,:]\n",
    "                elif j == 1:\n",
    "                    corte_cor[ima] = datos_img[ima][:,corte,:]\n",
    "                elif j == 2:\n",
    "                    corte_cor[ima] = datos_img[ima][:,:,corte]\n",
    "\n",
    "            elif ori == 'I'or ori == 'S':\n",
    "                # corte segun posición anatómica\n",
    "                if j == 0:\n",
    "                    corte_axi[ima] = datos_img[ima][corte,:,:]\n",
    "                elif j == 1:\n",
    "                    corte_axi[ima] = datos_img[ima][:,corte,:]\n",
    "                elif j == 2:\n",
    "                    corte_axi[ima] = datos_img[ima][:,:,corte]\n",
    "\n",
    "\n",
    "    # Extraemos el corte segun el tipo\n",
    "    corte_anat={} ; datos_zoom = {}\n",
    "    for i, ima in enumerate(lista_img):\n",
    "        if tipo  == 'sagital':\n",
    "            corte_anat[ima] = corte_sag[ima]\n",
    "            datos_zoom[ima] = corte_sag[ima][ini_verti : ini_verti+n,\n",
    "                                        ini_hori : ini_hori+n]\n",
    "        if tipo == 'coronal':\n",
    "            corte_anat[ima] = corte_cor[ima]\n",
    "            datos_zoom[ima] = corte_cor[ima][ini_verti : ini_verti+n,\n",
    "                                        ini_hori : ini_hori+n]\n",
    "        if tipo == 'axial':\n",
    "            corte_anat[ima] = corte_axi[ima]\n",
    "            datos_zoom[ima] = corte_axi[ima][ini_verti: ini_verti+n,\n",
    "                                        ini_hori : ini_hori+n]\n",
    "            \n",
    "    # Graficamos\n",
    "    font1 = {'fontsize':16, 'fontweight':'bold', 'color':'tab:blue'}\n",
    "    font2  = {'fontsize':18, 'fontweight':'bold', 'color':'tab:red'}\n",
    "\n",
    "    fig, axes = plt.subplots(len(datos_img),len(datos_img), figsize=(15, 15))\n",
    "    nom_prin = 'Cortes ' +tipo+'es: '+ str(corte)\n",
    "    fig.suptitle(nom_prin,fontweight =\"bold\", fontsize = 22, color = 'tab:blue')\n",
    "    \n",
    "    for j,im in enumerate(lista_img):\n",
    "        axes[j,0].imshow(corte_anat[im], cmap = 'gray')\n",
    "        axes[j,1].imshow(datos_zoom[im], cmap = 'gray')\n",
    "\n",
    "        # Nombramos las imagenes        \n",
    "        axes[j,0].xaxis.set_label_position('top')\n",
    "        axes[j,0].set_xlabel(im+' '+ nomb_ori[ima] + '\\n', fontdict=font2)\n",
    "        axes[j,1].xaxis.set_label_position('top')\n",
    "        axes[j,1].set_xlabel('zoom: '+im + '\\n', fontdict=font2)\n",
    "\n",
    "        # Recuadro que identifica la zona del zoom\n",
    "        cua_1 = patches.Rectangle((ini_hori,ini_verti),n,n, linewidth=2, edgecolor = 'yellow', fill=False)\n",
    "        axes[j,0].add_patch(cua_1)\n",
    "\n",
    "        #resaltamos borde de la imagen zoom\n",
    "        axes[j,1].spines['bottom'].set_color('yellow') ; axes[j,1].spines['bottom'].set_linewidth(10)\n",
    "        axes[j,1].spines['top'].set_color('yellow') ; axes[j,1].spines['top'].set_linewidth(10)\n",
    "        axes[j,1].spines['left'].set_color('yellow') ; axes[j,1].spines['left'].set_linewidth(10)\n",
    "        axes[j,1].spines['right'].set_color('yellow') ; axes[j,1].spines['right'].set_linewidth(10)\n",
    "        \n",
    "    # Graficamos el punto\n",
    "    for i,im in enumerate(lista_img):\n",
    "        axes[i,0].scatter(pto[1], pto[0], \n",
    "                          marker=\"s\", edgecolor='white', linewidth=2, color='red', s=40)\n",
    "        axes[i,1].scatter(pto[1]-ini_hori, pto[0]-ini_verti, \n",
    "                          marker=\"s\", edgecolor='white', linewidth=2, color='red', s=1200)\n",
    "    \n",
    "    \n",
    "    # DF de comparación del valor del voxel\n",
    "    df_compara = pd.DataFrame()\n",
    "    df_compara.index = ['orientacion', 'x', 'y' , 'z', \n",
    "                        'volumen', 'valor_voxel']  \n",
    "    \n",
    "    for i, ima in enumerate(lista_img):\n",
    "        lista_at = []\n",
    "        \n",
    "        if  ( (orientacion[ima][0] == 'L'or orientacion[ima][0] == 'R') and \n",
    "             (orientacion[ima][1] == 'A'or orientacion[ima][1] == 'P') and \n",
    "             (orientacion[ima][2] == 'I'or orientacion[ima][2] == 'S') ): \n",
    "            \n",
    "            if tipo  == 'sagital':\n",
    "                x=corte ; y=pto[0] ; z=pto[1]\n",
    "            elif tipo == 'coronal':\n",
    "                x=pto[0] ; y=corte ; z=pto[1]                \n",
    "            elif tipo == 'axial':\n",
    "                x=pto[0] ; y=pto[1] ; z=corte\n",
    "\n",
    "            if len(img[ima].shape) == 4:\n",
    "                volumen = vol\n",
    "                valor_voxel = img[ima].get_fdata()[x,y,z,vol]            \n",
    "            else:\n",
    "                volumen = '0'\n",
    "                valor_voxel = img[ima].get_fdata()[x,y,z]\n",
    "                \n",
    "        if  ( (orientacion[ima][0] == 'A'or orientacion[ima][0] == 'P') and \n",
    "             (orientacion[ima][1] == 'I'or orientacion[ima][1] == 'S') and \n",
    "             (orientacion[ima][2] == 'L'or orientacion[ima][2] == 'R') ): \n",
    "            if tipo  == 'sagital':\n",
    "                y=pto[0] ; z=pto[1] ; x=corte\n",
    "            elif tipo == 'coronal':\n",
    "                y=corte ; z=pto[0]; x=pto[1]                 \n",
    "            elif tipo == 'axial':\n",
    "                y=pto[0] ; z=corte ; x=pto[1] \n",
    "            if len(img[ima].shape) == 4:\n",
    "                volumen = vol\n",
    "                valor_voxel = img[ima].get_fdata()[y,z,x,vol]            \n",
    "            else:\n",
    "                volumen = '0'\n",
    "                valor_voxel = img[ima].get_fdata()[y,z,x]\n",
    "       \n",
    "        # Agregamos valores a la lista\n",
    "        lista_at.append(nomb_ori[ima])\n",
    "        lista_at.extend([x,y,z])\n",
    "        lista_at.append(volumen)\n",
    "        lista_at.append(valor_voxel)\n",
    "        \n",
    "        # Creamos DF de la lista_at\n",
    "        df_at = pd.DataFrame()\n",
    "        df_at = pd.DataFrame(lista_at)\n",
    "        df_at.columns = [ima]\n",
    "        df_at.index = df_compara.index\n",
    "        #display(df_at)\n",
    "\n",
    "        # Unimos las DF\n",
    "        df_compara = pd.merge(df_compara, df_at,\n",
    "                           right_index=True,left_index=True)\n",
    "        \n",
    "    #display(df_compara.T)\n",
    "    plt.subplots_adjust(#left=0.5,\n",
    "                        #bottom=0.5, \n",
    "                        #right=0.7,        \n",
    "                        #hspace=0.3,\n",
    "                        top=0.9)\n",
    "    return df_compara.T"
   ]
  },
  {
   "cell_type": "markdown",
   "id": "a7c6c219",
   "metadata": {},
   "source": [
    "## Cargamos imagen y datos de la imagen funcional preprocesada"
   ]
  },
  {
   "cell_type": "code",
   "execution_count": 8,
   "id": "c8dcf88f",
   "metadata": {},
   "outputs": [],
   "source": [
    "img_func = 'fmri_rest_prepro.nii.gz'\n",
    "img_func_orig = nib.load(opj(path_fmri,img_func)) # Cargamos imagen nifti\n",
    "datos_func_orig = img_func_orig.get_fdata()       # Cargamos datos de la imagen"
   ]
  },
  {
   "cell_type": "markdown",
   "id": "05408396",
   "metadata": {},
   "source": [
    "## Extraemos un volumen de la imagen funcional para procesar"
   ]
  },
  {
   "cell_type": "code",
   "execution_count": 9,
   "id": "4dc6279d",
   "metadata": {},
   "outputs": [
    {
     "data": {
      "text/plain": [
       "(62, 62, 44)"
      ]
     },
     "execution_count": 9,
     "metadata": {},
     "output_type": "execute_result"
    }
   ],
   "source": [
    "vol = 0\n",
    "img_func_pre = img_func_orig.slicer[...,vol]\n",
    "img_func_pre.shape"
   ]
  },
  {
   "cell_type": "code",
   "execution_count": 10,
   "id": "31507f12",
   "metadata": {},
   "outputs": [],
   "source": [
    "'''\n",
    "Guardamos volumen extraido\n",
    "'''\n",
    "\n",
    "name_save = 'fmri_prepro_vol_'+str(vol)\n",
    "nib.save(img_func_pre, opj(path_output ,name_save +'.nii.gz'))"
   ]
  },
  {
   "cell_type": "markdown",
   "id": "486f3852",
   "metadata": {},
   "source": [
    "## Definimos interface BET"
   ]
  },
  {
   "cell_type": "code",
   "execution_count": 11,
   "id": "add2107a",
   "metadata": {},
   "outputs": [],
   "source": [
    "new_name_save = 'fmri_prepro_bet_vol_'+str(vol)\n",
    "skullstrip = BET(in_file = opj(path_output,name_save +'.nii.gz'),\n",
    "                 out_file = opj(path_output,new_name_save),\n",
    "                 mask=True)\n",
    "res = skullstrip.run()"
   ]
  },
  {
   "cell_type": "code",
   "execution_count": 12,
   "id": "c025e4a3",
   "metadata": {
    "scrolled": false
   },
   "outputs": [
    {
     "data": {
      "image/png": "[encoded data removed]",
      "text/plain": [
       "<Figure size 475.2x187.2 with 4 Axes>"
      ]
     },
     "metadata": {},
     "output_type": "display_data"
    }
   ],
   "source": [
    "plot_anat(opj(path_output,new_name_save + '.nii.gz'), title='skullstrip fmri_prepro',\n",
    "          display_mode='ortho', dim=-1, draw_cross=False, annotate=False);"
   ]
  },
  {
   "cell_type": "markdown",
   "id": "a9570563",
   "metadata": {},
   "source": [
    "## Convolucionamos"
   ]
  },
  {
   "cell_type": "markdown",
   "id": "9849fe31",
   "metadata": {},
   "source": [
    "### Cargamos la imagen y datos de la mascara binaria de img_prepro"
   ]
  },
  {
   "cell_type": "code",
   "execution_count": 13,
   "id": "d451ac4a",
   "metadata": {},
   "outputs": [],
   "source": [
    "'''\n",
    "Al ejecutar la interface BET, me genera una imagen binaria de la extración del cerebro,\n",
    "con el nombre de la imagen guardada mas la palabra 'mask'\n",
    "'''\n",
    "\n",
    "img_func_bi = new_name_save+'_mask'\n",
    "img_func_bin = nib.load(opj(path_output,img_func_bi+'.nii.gz')) # Cargamos imagen nifti\n",
    "datos_func_bin = img_func_bin.get_fdata()       # Cargamos datos de la imagen"
   ]
  },
  {
   "cell_type": "code",
   "execution_count": 14,
   "id": "8ceb7a00",
   "metadata": {},
   "outputs": [
    {
     "data": {
      "image/png": "[encoded data removed]",
      "text/plain": [
       "<Figure size 475.2x187.2 with 4 Axes>"
      ]
     },
     "metadata": {},
     "output_type": "display_data"
    }
   ],
   "source": [
    "plot_anat(img_func_bin, title='skullstrip fmri_prepro_binaria',\n",
    "          display_mode='ortho', dim=-1, draw_cross=False, annotate=False);"
   ]
  },
  {
   "cell_type": "markdown",
   "id": "59f683b6",
   "metadata": {},
   "source": [
    "### Convolucionamos"
   ]
  },
  {
   "cell_type": "code",
   "execution_count": 15,
   "id": "d602b0c1",
   "metadata": {},
   "outputs": [
    {
     "data": {
      "text/plain": [
       "(62, 62, 44, 196)"
      ]
     },
     "execution_count": 15,
     "metadata": {},
     "output_type": "execute_result"
    }
   ],
   "source": [
    "'''\n",
    "Copiamos datos de la imagen original\n",
    "'''\n",
    "datos_func_bet = np.copy(datos_func_orig)\n",
    "datos_func_bet.shape"
   ]
  },
  {
   "cell_type": "code",
   "execution_count": 16,
   "id": "13fe58a9",
   "metadata": {},
   "outputs": [],
   "source": [
    "'''\n",
    "Convolucionamos con la mascara binaria\n",
    "'''\n",
    "for i in range(datos_func_bet.shape[3]):\n",
    "    datos_func_bet[:,:,:,i] = datos_func_bet[:,:,:,i]*datos_func_bin\n",
    "\n",
    "datos_func_bet.shape\n",
    "\n",
    "\n",
    "'''\n",
    "Guardamos la convolucion\n",
    "'''\n",
    "#creamos una imagen nifti, agregamos el header de la ingen funcional preporcesada original\n",
    "header = img_func_orig.header\n",
    "affine = img_func_orig.affine\n",
    "\n",
    "img_new = nib.Nifti1Image(datos_func_bet,affine, header)\n",
    "nib.save(img_new, opj(path_output, 'fmri_prepro_bet.nii.gz')) \n"
   ]
  },
  {
   "cell_type": "markdown",
   "id": "e8ccd790",
   "metadata": {},
   "source": [
    "## Diccionario con las imagenes a comparar"
   ]
  },
  {
   "cell_type": "code",
   "execution_count": 17,
   "id": "9185ae55",
   "metadata": {},
   "outputs": [],
   "source": [
    "datos_img ={'func_prepro': datos_func_orig, 'func_prepro_bet': datos_func_bet}\n"
   ]
  },
  {
   "cell_type": "markdown",
   "id": "eeb32cf4",
   "metadata": {},
   "source": [
    "### Visualizamos"
   ]
  },
  {
   "cell_type": "code",
   "execution_count": 18,
   "id": "e60fb55d",
   "metadata": {},
   "outputs": [],
   "source": [
    "img_func = 'fmri_prepro_bet.nii.gz'\n",
    "img_func_bet = nib.load(opj(path_output,img_func)) # Cargamos imagen nifti\n",
    "datos_func_bet = img_func_orig.get_fdata()    "
   ]
  },
  {
   "cell_type": "code",
   "execution_count": 19,
   "id": "1fa764ba",
   "metadata": {},
   "outputs": [],
   "source": [
    "img_oribet = {'func_prepro':img_func_orig, 'func_prepro_bet':img_func_bet}"
   ]
  },
  {
   "cell_type": "code",
   "execution_count": 20,
   "id": "bb0e662f",
   "metadata": {
    "scrolled": false
   },
   "outputs": [
    {
     "data": {
      "image/png": "[encoded data removed]",
      "text/plain": [
       "<Figure size 1440x1440 with 6 Axes>"
      ]
     },
     "metadata": {
      "needs_background": "light"
     },
     "output_type": "display_data"
    },
    {
     "data": {
      "image/png": "[encoded data removed]",
      "text/plain": [
       "<Figure size 144x144 with 3 Axes>"
      ]
     },
     "metadata": {},
     "output_type": "display_data"
    }
   ],
   "source": [
    "visual_cortes_ana(img=img_oribet,\n",
    "                  vol=30,\n",
    "                  voxel=(34,36,30))"
   ]
  },
  {
   "cell_type": "markdown",
   "id": "bbefe1e1",
   "metadata": {},
   "source": [
    "## Zoom para comparara img_prepro e img_prepro_bet"
   ]
  },
  {
   "cell_type": "code",
   "execution_count": 21,
   "id": "6c658b62",
   "metadata": {
    "scrolled": false
   },
   "outputs": [
    {
     "data": {
      "text/html": [
       "<div>\n",
       "<style scoped>\n",
       "    .dataframe tbody tr th:only-of-type {\n",
       "        vertical-align: middle;\n",
       "    }\n",
       "\n",
       "    .dataframe tbody tr th {\n",
       "        vertical-align: top;\n",
       "    }\n",
       "\n",
       "    .dataframe thead th {\n",
       "        text-align: right;\n",
       "    }\n",
       "</style>\n",
       "<table border=\"1\" class=\"dataframe\">\n",
       "  <thead>\n",
       "    <tr style=\"text-align: right;\">\n",
       "      <th></th>\n",
       "      <th>orientacion</th>\n",
       "      <th>x</th>\n",
       "      <th>y</th>\n",
       "      <th>z</th>\n",
       "      <th>volumen</th>\n",
       "      <th>valor_voxel</th>\n",
       "    </tr>\n",
       "  </thead>\n",
       "  <tbody>\n",
       "    <tr>\n",
       "      <th>func_prepro</th>\n",
       "      <td>(P,S,R)</td>\n",
       "      <td>30</td>\n",
       "      <td>16</td>\n",
       "      <td>34</td>\n",
       "      <td>10</td>\n",
       "      <td>952.101196</td>\n",
       "    </tr>\n",
       "    <tr>\n",
       "      <th>func_prepro_bet</th>\n",
       "      <td>(P,S,R)</td>\n",
       "      <td>30</td>\n",
       "      <td>16</td>\n",
       "      <td>34</td>\n",
       "      <td>10</td>\n",
       "      <td>0.0</td>\n",
       "    </tr>\n",
       "  </tbody>\n",
       "</table>\n",
       "</div>"
      ],
      "text/plain": [
       "                orientacion   x   y   z volumen valor_voxel\n",
       "func_prepro         (P,S,R)  30  16  34      10  952.101196\n",
       "func_prepro_bet     (P,S,R)  30  16  34      10         0.0"
      ]
     },
     "execution_count": 21,
     "metadata": {},
     "output_type": "execute_result"
    },
    {
     "data": {
      "image/png": "[encoded data removed]",
      "text/plain": [
       "<Figure size 1080x1080 with 4 Axes>"
      ]
     },
     "metadata": {
      "needs_background": "light"
     },
     "output_type": "display_data"
    }
   ],
   "source": [
    "zoom_with_pto(img=img_oribet,\n",
    "              vol=10,\n",
    "              tipo='sagital',\n",
    "              corte=30,\n",
    "              ini_verti=12, \n",
    "              ini_hori=28,\n",
    "              n=10,\n",
    "              pto=(16,34)\n",
    "             )"
   ]
  },
  {
   "cell_type": "code",
   "execution_count": 22,
   "id": "d8009e33",
   "metadata": {
    "run_control": {
     "marked": true
    },
    "scrolled": false
   },
   "outputs": [
    {
     "data": {
      "text/html": [
       "<div>\n",
       "<style scoped>\n",
       "    .dataframe tbody tr th:only-of-type {\n",
       "        vertical-align: middle;\n",
       "    }\n",
       "\n",
       "    .dataframe tbody tr th {\n",
       "        vertical-align: top;\n",
       "    }\n",
       "\n",
       "    .dataframe thead th {\n",
       "        text-align: right;\n",
       "    }\n",
       "</style>\n",
       "<table border=\"1\" class=\"dataframe\">\n",
       "  <thead>\n",
       "    <tr style=\"text-align: right;\">\n",
       "      <th></th>\n",
       "      <th>orientacion</th>\n",
       "      <th>x</th>\n",
       "      <th>y</th>\n",
       "      <th>z</th>\n",
       "      <th>volumen</th>\n",
       "      <th>valor_voxel</th>\n",
       "    </tr>\n",
       "  </thead>\n",
       "  <tbody>\n",
       "    <tr>\n",
       "      <th>func_prepro</th>\n",
       "      <td>(P,S,R)</td>\n",
       "      <td>15</td>\n",
       "      <td>34</td>\n",
       "      <td>23</td>\n",
       "      <td>10</td>\n",
       "      <td>12.789221</td>\n",
       "    </tr>\n",
       "    <tr>\n",
       "      <th>func_prepro_bet</th>\n",
       "      <td>(P,S,R)</td>\n",
       "      <td>15</td>\n",
       "      <td>34</td>\n",
       "      <td>23</td>\n",
       "      <td>10</td>\n",
       "      <td>0.0</td>\n",
       "    </tr>\n",
       "  </tbody>\n",
       "</table>\n",
       "</div>"
      ],
      "text/plain": [
       "                orientacion   x   y   z volumen valor_voxel\n",
       "func_prepro         (P,S,R)  15  34  23      10   12.789221\n",
       "func_prepro_bet     (P,S,R)  15  34  23      10         0.0"
      ]
     },
     "execution_count": 22,
     "metadata": {},
     "output_type": "execute_result"
    },
    {
     "data": {
      "image/png": "[encoded data removed]",
      "text/plain": [
       "<Figure size 1080x1080 with 4 Axes>"
      ]
     },
     "metadata": {
      "needs_background": "light"
     },
     "output_type": "display_data"
    }
   ],
   "source": [
    "zoom_with_pto(img=img_oribet,\n",
    "              vol=10,\n",
    "              tipo='coronal',\n",
    "              corte=34,\n",
    "              ini_verti=18, \n",
    "              ini_hori=10,\n",
    "              n=10,\n",
    "              pto=(23,15)\n",
    "             )"
   ]
  },
  {
   "cell_type": "code",
   "execution_count": 23,
   "id": "20e95ea7",
   "metadata": {
    "run_control": {
     "marked": true
    },
    "scrolled": false
   },
   "outputs": [
    {
     "data": {
      "text/html": [
       "<div>\n",
       "<style scoped>\n",
       "    .dataframe tbody tr th:only-of-type {\n",
       "        vertical-align: middle;\n",
       "    }\n",
       "\n",
       "    .dataframe tbody tr th {\n",
       "        vertical-align: top;\n",
       "    }\n",
       "\n",
       "    .dataframe thead th {\n",
       "        text-align: right;\n",
       "    }\n",
       "</style>\n",
       "<table border=\"1\" class=\"dataframe\">\n",
       "  <thead>\n",
       "    <tr style=\"text-align: right;\">\n",
       "      <th></th>\n",
       "      <th>orientacion</th>\n",
       "      <th>x</th>\n",
       "      <th>y</th>\n",
       "      <th>z</th>\n",
       "      <th>volumen</th>\n",
       "      <th>valor_voxel</th>\n",
       "    </tr>\n",
       "  </thead>\n",
       "  <tbody>\n",
       "    <tr>\n",
       "      <th>func_prepro</th>\n",
       "      <td>(P,S,R)</td>\n",
       "      <td>31</td>\n",
       "      <td>17</td>\n",
       "      <td>36</td>\n",
       "      <td>10</td>\n",
       "      <td>1079.920044</td>\n",
       "    </tr>\n",
       "    <tr>\n",
       "      <th>func_prepro_bet</th>\n",
       "      <td>(P,S,R)</td>\n",
       "      <td>31</td>\n",
       "      <td>17</td>\n",
       "      <td>36</td>\n",
       "      <td>10</td>\n",
       "      <td>0.0</td>\n",
       "    </tr>\n",
       "  </tbody>\n",
       "</table>\n",
       "</div>"
      ],
      "text/plain": [
       "                orientacion   x   y   z volumen  valor_voxel\n",
       "func_prepro         (P,S,R)  31  17  36      10  1079.920044\n",
       "func_prepro_bet     (P,S,R)  31  17  36      10          0.0"
      ]
     },
     "execution_count": 23,
     "metadata": {},
     "output_type": "execute_result"
    },
    {
     "data": {
      "image/png": "[encoded data removed]",
      "text/plain": [
       "<Figure size 1080x1080 with 4 Axes>"
      ]
     },
     "metadata": {
      "needs_background": "light"
     },
     "output_type": "display_data"
    }
   ],
   "source": [
    "zoom_with_pto(img=img_oribet,\n",
    "              vol=10,\n",
    "              tipo='axial',\n",
    "              corte=36,\n",
    "              ini_verti=12, \n",
    "              ini_hori=25,\n",
    "              n=10,\n",
    "              pto=(17,31)\n",
    "             )"
   ]
  },
  {
   "cell_type": "markdown",
   "id": "dac5d906",
   "metadata": {},
   "source": [
    "## Aplicamos función atributos"
   ]
  },
  {
   "cell_type": "code",
   "execution_count": 24,
   "id": "4ec5d95f",
   "metadata": {},
   "outputs": [
    {
     "data": {
      "text/html": [
       "<div>\n",
       "<style scoped>\n",
       "    .dataframe tbody tr th:only-of-type {\n",
       "        vertical-align: middle;\n",
       "    }\n",
       "\n",
       "    .dataframe tbody tr th {\n",
       "        vertical-align: top;\n",
       "    }\n",
       "\n",
       "    .dataframe thead th {\n",
       "        text-align: right;\n",
       "    }\n",
       "</style>\n",
       "<table border=\"1\" class=\"dataframe\">\n",
       "  <thead>\n",
       "    <tr style=\"text-align: right;\">\n",
       "      <th></th>\n",
       "      <th>func_prepro</th>\n",
       "      <th>func_prepro_bet</th>\n",
       "    </tr>\n",
       "  </thead>\n",
       "  <tbody>\n",
       "    <tr>\n",
       "      <th>forma</th>\n",
       "      <td>(62, 62, 44, 196)</td>\n",
       "      <td>(62, 62, 44, 196)</td>\n",
       "    </tr>\n",
       "    <tr>\n",
       "      <th>dimension</th>\n",
       "      <td>4</td>\n",
       "      <td>4</td>\n",
       "    </tr>\n",
       "    <tr>\n",
       "      <th>orientacion</th>\n",
       "      <td>(P, S, R)</td>\n",
       "      <td>(P, S, R)</td>\n",
       "    </tr>\n",
       "    <tr>\n",
       "      <th></th>\n",
       "      <td>[y, z, x]</td>\n",
       "      <td>[y, z, x]</td>\n",
       "    </tr>\n",
       "    <tr>\n",
       "      <th>x_img</th>\n",
       "      <td>44</td>\n",
       "      <td>44</td>\n",
       "    </tr>\n",
       "    <tr>\n",
       "      <th>y_img</th>\n",
       "      <td>62</td>\n",
       "      <td>62</td>\n",
       "    </tr>\n",
       "    <tr>\n",
       "      <th>z_img</th>\n",
       "      <td>62</td>\n",
       "      <td>62</td>\n",
       "    </tr>\n",
       "    <tr>\n",
       "      <th>volumenes_(N)</th>\n",
       "      <td>196</td>\n",
       "      <td>196</td>\n",
       "    </tr>\n",
       "    <tr>\n",
       "      <th>voxel_size_(mm)</th>\n",
       "      <td>[4.0, 4.0, 4.0]</td>\n",
       "      <td>[4.0, 4.0, 4.0]</td>\n",
       "    </tr>\n",
       "    <tr>\n",
       "      <th>TR_(s)</th>\n",
       "      <td>3.56</td>\n",
       "      <td>3.56</td>\n",
       "    </tr>\n",
       "    <tr>\n",
       "      <th>tipo_dato</th>\n",
       "      <td>float32</td>\n",
       "      <td>float32</td>\n",
       "    </tr>\n",
       "    <tr>\n",
       "      <th>numero_voxels</th>\n",
       "      <td>33150656</td>\n",
       "      <td>33150656</td>\n",
       "    </tr>\n",
       "    <tr>\n",
       "      <th>min_img</th>\n",
       "      <td>7.84</td>\n",
       "      <td>0.0</td>\n",
       "    </tr>\n",
       "    <tr>\n",
       "      <th>max_img</th>\n",
       "      <td>1156.94</td>\n",
       "      <td>941.74</td>\n",
       "    </tr>\n",
       "  </tbody>\n",
       "</table>\n",
       "</div>"
      ],
      "text/plain": [
       "                       func_prepro    func_prepro_bet\n",
       "forma            (62, 62, 44, 196)  (62, 62, 44, 196)\n",
       "dimension                        4                  4\n",
       "orientacion              (P, S, R)          (P, S, R)\n",
       "                         [y, z, x]          [y, z, x]\n",
       "x_img                           44                 44\n",
       "y_img                           62                 62\n",
       "z_img                           62                 62\n",
       "volumenes_(N)                  196                196\n",
       "voxel_size_(mm)    [4.0, 4.0, 4.0]    [4.0, 4.0, 4.0]\n",
       "TR_(s)                        3.56               3.56\n",
       "tipo_dato                  float32            float32\n",
       "numero_voxels             33150656           33150656\n",
       "min_img                       7.84                0.0\n",
       "max_img                    1156.94             941.74"
      ]
     },
     "execution_count": 24,
     "metadata": {},
     "output_type": "execute_result"
    }
   ],
   "source": [
    "atributo_img(img=img_oribet)"
   ]
  },
  {
   "cell_type": "markdown",
   "id": "b80ebf13",
   "metadata": {},
   "source": [
    "## Tiempo de ejecución"
   ]
  },
  {
   "cell_type": "code",
   "execution_count": 25,
   "id": "26be2822",
   "metadata": {},
   "outputs": [
    {
     "name": "stdout",
     "output_type": "stream",
     "text": [
      "-----------------------------\n",
      " tiempo de ejecución\n",
      "\n",
      " 11.309047937393188 seg\n",
      " 0.18848413228988647 min\n",
      " -----------------------------\n",
      "\n",
      "---------------------------------------\n",
      " tiempo de ejecución del sistema y CPU\n",
      "\n",
      " 14.461932626 seg\n",
      " 0.2410322104333333 min\n",
      " ---------------------------------------\n",
      "\n"
     ]
    }
   ],
   "source": [
    "fin = time.time()\n",
    "end = time.process_time()\n",
    "tiempo = fin - inicio\n",
    "tiempo2 = end - start\n",
    "\n",
    "print('-----------------------------\\n', \n",
    "      'tiempo de ejecución\\n\\n', tiempo, 'seg\\n', tiempo/60, 'min\\n',      \n",
    "     '-----------------------------\\n')\n",
    "print('---------------------------------------\\n', \n",
    "      'tiempo de ejecución del sistema y CPU\\n\\n', tiempo2, 'seg\\n', tiempo2/60, 'min\\n',   \n",
    "     '---------------------------------------\\n')"
   ]
  },
  {
   "cell_type": "markdown",
   "id": "6e8c2245",
   "metadata": {},
   "source": [
    "## FIN"
   ]
  }
 ],
 "metadata": {
  "kernelspec": {
   "display_name": "Python 3 (ipykernel)",
   "language": "python",
   "name": "python3"
  },
  "language_info": {
   "codemirror_mode": {
    "name": "ipython",
    "version": 3
   },
   "file_extension": ".py",
   "mimetype": "text/x-python",
   "name": "python",
   "nbconvert_exporter": "python",
   "pygments_lexer": "ipython3",
   "version": "3.9.7"
  },
  "nbTranslate": {
   "displayLangs": [
    "*"
   ],
   "hotkey": "alt-t",
   "langInMainMenu": true,
   "sourceLang": "en",
   "targetLang": "fr",
   "useGoogleTranslate": true
  },
  "toc": {
   "base_numbering": 1,
   "nav_menu": {},
   "number_sections": true,
   "sideBar": true,
   "skip_h1_title": false,
   "title_cell": "Table of Contents",
   "title_sidebar": "Contents",
   "toc_cell": false,
   "toc_position": {
    "height": "calc(100% - 180px)",
    "left": "10px",
    "top": "150px",
    "width": "252.828px"
   },
   "toc_section_display": true,
   "toc_window_display": true
  },
  "varInspector": {
   "cols": {
    "lenName": 16,
    "lenType": 16,
    "lenVar": 40
   },
   "kernels_config": {
    "python": {
     "delete_cmd_postfix": "",
     "delete_cmd_prefix": "del ",
     "library": "var_list.py",
     "varRefreshCmd": "print(var_dic_list())"
    },
    "r": {
     "delete_cmd_postfix": ") ",
     "delete_cmd_prefix": "rm(",
     "library": "var_list.r",
     "varRefreshCmd": "cat(var_dic_list()) "
    }
   },
   "types_to_exclude": [
    "module",
    "function",
    "builtin_function_or_method",
    "instance",
    "_Feature"
   ],
   "window_display": false
  }
 },
 "nbformat": 4,
 "nbformat_minor": 5
}
